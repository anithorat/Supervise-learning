{
 "cells": [
  {
   "cell_type": "markdown",
   "id": "7eef683c",
   "metadata": {},
   "source": [
    "## Domain: Banking"
   ]
  },
  {
   "cell_type": "markdown",
   "id": "500d3a68",
   "metadata": {},
   "source": [
    "**Context:**"
   ]
  },
  {
   "cell_type": "markdown",
   "id": "208688dc",
   "metadata": {},
   "source": [
    "A bank X is on a massive digital transformation for all its departments. Bank has a growing customer base whee majority of them are liability customers (depositors) vs borrowers (asset customers). The bank is interested in expanding the borrowers base rapidly to bring in more business  via  loan  interests.  A  campaign  that  the  bank  ran  in  last  quarter  showed  an  average  single  digit  conversion  rate.  Digital  transformation being  the  core  strength  of  the  business  strategy,  marketing  department  wants  to  devise  effective  campaigns  with  better  target  marketing  to increase the conversion ratio to double digit with same budget as per last campaign."
   ]
  },
  {
   "cell_type": "markdown",
   "id": "23aae67b",
   "metadata": {},
   "source": [
    "**DATA DICTIONARY:**\n",
    "1.ID: Customer ID\n",
    "\n",
    "2.Age: Customer’s approximate age.\n",
    "\n",
    "3.CustomerSince: Customer of the bank since. [unit is masked]\n",
    "\n",
    "4.HighestSpend: Customer’s highest spend so far in one transaction. [unit is masked]\n",
    "\n",
    "5.ZipCode: Customer’s zip code.\n",
    "\n",
    "6.HiddenScore: A score associated to the customer which is masked by the bank as an IP.\n",
    "\n",
    "7.MonthlyAverageSpend: Customer’s monthly average spend so far. [unit is masked]\n",
    "\n",
    "8.Level: A level associated to the customer which is masked by the bank as an IP.\n",
    "\n",
    "9.Mortgage: Customer’s mortgage. [unit is masked]\n",
    "\n",
    "10.Security: Customer’s security asset with the bank. [unit is masked]\n",
    "\n",
    "11.FixedDepositAccount: Customer’s fixed deposit account with the bank. [unit is masked]\n",
    "\n",
    "12.InternetBanking: if the customer uses internet banking.\n",
    "\n",
    "13.CreditCard: if the customer uses bank’s credit card.\n",
    "\n",
    "14.LoanOnCard: if the customer has a loan on credit card."
   ]
  },
  {
   "cell_type": "markdown",
   "id": "a252a2f0",
   "metadata": {},
   "source": [
    "**Project Objective:**\n",
    "\n",
    "Build  a  Machine  Learning  model  to  perform  focused  marketing  by  predicting  the  potential  customers  who  will  convert using the historical dataset."
   ]
  },
  {
   "cell_type": "markdown",
   "id": "dc45be12",
   "metadata": {},
   "source": [
    "### 1.Data Understanding and Preparation:"
   ]
  },
  {
   "cell_type": "code",
   "execution_count": 1,
   "id": "4adfd629",
   "metadata": {},
   "outputs": [],
   "source": [
    "# Importing Neccesary libraries\n",
    "\n",
    "import numpy as np\n",
    "import pandas as pd\n",
    "import matplotlib.pyplot as plt\n",
    "import seaborn as sns\n",
    "%matplotlib inline\n",
    "\n",
    "from sklearn.model_selection import train_test_split\n",
    "from sklearn.neighbors import KNeighborsClassifier\n",
    "from sklearn.metrics import accuracy_score, confusion_matrix\n",
    "from sklearn.svm import SVC"
   ]
  },
  {
   "cell_type": "markdown",
   "id": "4fa76f56",
   "metadata": {},
   "source": [
    "#### <span style=\"font-family: Arial; font-weight:bold;font-size:1.2em;color:#0e92ea\">A.Read both the Datasets ‘Data1’ and ‘Data 2’ as DataFrame and store them into two separate variables."
   ]
  },
  {
   "cell_type": "code",
   "execution_count": 2,
   "id": "f58695c7",
   "metadata": {},
   "outputs": [
    {
     "data": {
      "text/html": [
       "<div>\n",
       "<style scoped>\n",
       "    .dataframe tbody tr th:only-of-type {\n",
       "        vertical-align: middle;\n",
       "    }\n",
       "\n",
       "    .dataframe tbody tr th {\n",
       "        vertical-align: top;\n",
       "    }\n",
       "\n",
       "    .dataframe thead th {\n",
       "        text-align: right;\n",
       "    }\n",
       "</style>\n",
       "<table border=\"1\" class=\"dataframe\">\n",
       "  <thead>\n",
       "    <tr style=\"text-align: right;\">\n",
       "      <th></th>\n",
       "      <th>ID</th>\n",
       "      <th>Age</th>\n",
       "      <th>CustomerSince</th>\n",
       "      <th>HighestSpend</th>\n",
       "      <th>ZipCode</th>\n",
       "      <th>HiddenScore</th>\n",
       "      <th>MonthlyAverageSpend</th>\n",
       "      <th>Level</th>\n",
       "    </tr>\n",
       "  </thead>\n",
       "  <tbody>\n",
       "    <tr>\n",
       "      <th>0</th>\n",
       "      <td>1</td>\n",
       "      <td>25</td>\n",
       "      <td>1</td>\n",
       "      <td>49</td>\n",
       "      <td>91107</td>\n",
       "      <td>4</td>\n",
       "      <td>1.6</td>\n",
       "      <td>1</td>\n",
       "    </tr>\n",
       "    <tr>\n",
       "      <th>1</th>\n",
       "      <td>2</td>\n",
       "      <td>45</td>\n",
       "      <td>19</td>\n",
       "      <td>34</td>\n",
       "      <td>90089</td>\n",
       "      <td>3</td>\n",
       "      <td>1.5</td>\n",
       "      <td>1</td>\n",
       "    </tr>\n",
       "    <tr>\n",
       "      <th>2</th>\n",
       "      <td>3</td>\n",
       "      <td>39</td>\n",
       "      <td>15</td>\n",
       "      <td>11</td>\n",
       "      <td>94720</td>\n",
       "      <td>1</td>\n",
       "      <td>1.0</td>\n",
       "      <td>1</td>\n",
       "    </tr>\n",
       "    <tr>\n",
       "      <th>3</th>\n",
       "      <td>4</td>\n",
       "      <td>35</td>\n",
       "      <td>9</td>\n",
       "      <td>100</td>\n",
       "      <td>94112</td>\n",
       "      <td>1</td>\n",
       "      <td>2.7</td>\n",
       "      <td>2</td>\n",
       "    </tr>\n",
       "    <tr>\n",
       "      <th>4</th>\n",
       "      <td>5</td>\n",
       "      <td>35</td>\n",
       "      <td>8</td>\n",
       "      <td>45</td>\n",
       "      <td>91330</td>\n",
       "      <td>4</td>\n",
       "      <td>1.0</td>\n",
       "      <td>2</td>\n",
       "    </tr>\n",
       "  </tbody>\n",
       "</table>\n",
       "</div>"
      ],
      "text/plain": [
       "   ID  Age  CustomerSince  HighestSpend  ZipCode  HiddenScore  \\\n",
       "0   1   25              1            49    91107            4   \n",
       "1   2   45             19            34    90089            3   \n",
       "2   3   39             15            11    94720            1   \n",
       "3   4   35              9           100    94112            1   \n",
       "4   5   35              8            45    91330            4   \n",
       "\n",
       "   MonthlyAverageSpend  Level  \n",
       "0                  1.6      1  \n",
       "1                  1.5      1  \n",
       "2                  1.0      1  \n",
       "3                  2.7      2  \n",
       "4                  1.0      2  "
      ]
     },
     "execution_count": 2,
     "metadata": {},
     "output_type": "execute_result"
    }
   ],
   "source": [
    "# Dataset 1\n",
    "\n",
    "data1=pd.read_csv('Data1.csv')\n",
    "data1.head()"
   ]
  },
  {
   "cell_type": "code",
   "execution_count": 3,
   "id": "da069b0c",
   "metadata": {},
   "outputs": [
    {
     "data": {
      "text/html": [
       "<div>\n",
       "<style scoped>\n",
       "    .dataframe tbody tr th:only-of-type {\n",
       "        vertical-align: middle;\n",
       "    }\n",
       "\n",
       "    .dataframe tbody tr th {\n",
       "        vertical-align: top;\n",
       "    }\n",
       "\n",
       "    .dataframe thead th {\n",
       "        text-align: right;\n",
       "    }\n",
       "</style>\n",
       "<table border=\"1\" class=\"dataframe\">\n",
       "  <thead>\n",
       "    <tr style=\"text-align: right;\">\n",
       "      <th></th>\n",
       "      <th>ID</th>\n",
       "      <th>Mortgage</th>\n",
       "      <th>Security</th>\n",
       "      <th>FixedDepositAccount</th>\n",
       "      <th>InternetBanking</th>\n",
       "      <th>CreditCard</th>\n",
       "      <th>LoanOnCard</th>\n",
       "    </tr>\n",
       "  </thead>\n",
       "  <tbody>\n",
       "    <tr>\n",
       "      <th>0</th>\n",
       "      <td>1</td>\n",
       "      <td>0</td>\n",
       "      <td>1</td>\n",
       "      <td>0</td>\n",
       "      <td>0</td>\n",
       "      <td>0</td>\n",
       "      <td>NaN</td>\n",
       "    </tr>\n",
       "    <tr>\n",
       "      <th>1</th>\n",
       "      <td>2</td>\n",
       "      <td>0</td>\n",
       "      <td>1</td>\n",
       "      <td>0</td>\n",
       "      <td>0</td>\n",
       "      <td>0</td>\n",
       "      <td>NaN</td>\n",
       "    </tr>\n",
       "    <tr>\n",
       "      <th>2</th>\n",
       "      <td>3</td>\n",
       "      <td>0</td>\n",
       "      <td>0</td>\n",
       "      <td>0</td>\n",
       "      <td>0</td>\n",
       "      <td>0</td>\n",
       "      <td>NaN</td>\n",
       "    </tr>\n",
       "    <tr>\n",
       "      <th>3</th>\n",
       "      <td>4</td>\n",
       "      <td>0</td>\n",
       "      <td>0</td>\n",
       "      <td>0</td>\n",
       "      <td>0</td>\n",
       "      <td>0</td>\n",
       "      <td>NaN</td>\n",
       "    </tr>\n",
       "    <tr>\n",
       "      <th>4</th>\n",
       "      <td>5</td>\n",
       "      <td>0</td>\n",
       "      <td>0</td>\n",
       "      <td>0</td>\n",
       "      <td>0</td>\n",
       "      <td>1</td>\n",
       "      <td>NaN</td>\n",
       "    </tr>\n",
       "  </tbody>\n",
       "</table>\n",
       "</div>"
      ],
      "text/plain": [
       "   ID  Mortgage  Security  FixedDepositAccount  InternetBanking  CreditCard  \\\n",
       "0   1         0         1                    0                0           0   \n",
       "1   2         0         1                    0                0           0   \n",
       "2   3         0         0                    0                0           0   \n",
       "3   4         0         0                    0                0           0   \n",
       "4   5         0         0                    0                0           1   \n",
       "\n",
       "   LoanOnCard  \n",
       "0         NaN  \n",
       "1         NaN  \n",
       "2         NaN  \n",
       "3         NaN  \n",
       "4         NaN  "
      ]
     },
     "execution_count": 3,
     "metadata": {},
     "output_type": "execute_result"
    }
   ],
   "source": [
    "# Dataset 2\n",
    "\n",
    "data2=pd.read_csv('Data2.csv')\n",
    "data2.head()"
   ]
  },
  {
   "cell_type": "markdown",
   "id": "07ce236e",
   "metadata": {},
   "source": [
    "#### <span style=\"font-family: Arial; font-weight:bold;font-size:1.2em;color:#0e92ea\">B.Print shape and Column Names and DataTypes of both the Dataframe. "
   ]
  },
  {
   "cell_type": "code",
   "execution_count": 4,
   "id": "80c262af",
   "metadata": {},
   "outputs": [
    {
     "name": "stdout",
     "output_type": "stream",
     "text": [
      "Dataset 1\n",
      "Shape of data is: (5000, 8)\n",
      "Column names of the Datset: \n",
      " Index(['ID', 'Age', 'CustomerSince', 'HighestSpend', 'ZipCode', 'HiddenScore',\n",
      "       'MonthlyAverageSpend', 'Level'],\n",
      "      dtype='object')\n",
      "Data types of the data: \n",
      " ID                       int64\n",
      "Age                      int64\n",
      "CustomerSince            int64\n",
      "HighestSpend             int64\n",
      "ZipCode                  int64\n",
      "HiddenScore              int64\n",
      "MonthlyAverageSpend    float64\n",
      "Level                    int64\n",
      "dtype: object\n",
      "-----------------------------------------------------------------------------------\n",
      "Dataset 2\n",
      "Shape of data is: (5000, 7)\n",
      "Column names of the Datset: \n",
      " Index(['ID', 'Mortgage', 'Security', 'FixedDepositAccount', 'InternetBanking',\n",
      "       'CreditCard', 'LoanOnCard'],\n",
      "      dtype='object')\n",
      "Data types of the data: \n",
      " ID                       int64\n",
      "Mortgage                 int64\n",
      "Security                 int64\n",
      "FixedDepositAccount      int64\n",
      "InternetBanking          int64\n",
      "CreditCard               int64\n",
      "LoanOnCard             float64\n",
      "dtype: object\n"
     ]
    }
   ],
   "source": [
    "print(\"Dataset 1\")\n",
    "print(\"Shape of data is:\", data1.shape)\n",
    "print(\"Column names of the Datset: \\n\", data1.columns)\n",
    "print(\"Data types of the data: \\n\", data1.dtypes)\n",
    "print(\"-----------------------------------------------------------------------------------\")\n",
    "print(\"Dataset 2\")\n",
    "print(\"Shape of data is:\", data2.shape)\n",
    "print(\"Column names of the Datset: \\n\", data2.columns)\n",
    "print(\"Data types of the data: \\n\", data2.dtypes)"
   ]
  },
  {
   "cell_type": "markdown",
   "id": "11316a2a",
   "metadata": {},
   "source": [
    "#### <span style=\"font-family: Arial; font-weight:bold;font-size:1.2em;color:#0e92ea\">C.Merge both the Dataframe on ‘ID’ feature to form a single DataFrame"
   ]
  },
  {
   "cell_type": "code",
   "execution_count": 5,
   "id": "63eee2bf",
   "metadata": {},
   "outputs": [
    {
     "data": {
      "text/plain": [
       "(5000, 14)"
      ]
     },
     "execution_count": 5,
     "metadata": {},
     "output_type": "execute_result"
    }
   ],
   "source": [
    "data=data1.merge(data2, left_on='ID', right_on=\"ID\")\n",
    "data.shape"
   ]
  },
  {
   "cell_type": "markdown",
   "id": "6b121187",
   "metadata": {},
   "source": [
    "**Final DataFrame has 5000 rows and 14 column.**"
   ]
  },
  {
   "cell_type": "code",
   "execution_count": 6,
   "id": "6a077f10",
   "metadata": {},
   "outputs": [
    {
     "data": {
      "text/html": [
       "<div>\n",
       "<style scoped>\n",
       "    .dataframe tbody tr th:only-of-type {\n",
       "        vertical-align: middle;\n",
       "    }\n",
       "\n",
       "    .dataframe tbody tr th {\n",
       "        vertical-align: top;\n",
       "    }\n",
       "\n",
       "    .dataframe thead th {\n",
       "        text-align: right;\n",
       "    }\n",
       "</style>\n",
       "<table border=\"1\" class=\"dataframe\">\n",
       "  <thead>\n",
       "    <tr style=\"text-align: right;\">\n",
       "      <th></th>\n",
       "      <th>ID</th>\n",
       "      <th>Age</th>\n",
       "      <th>CustomerSince</th>\n",
       "      <th>HighestSpend</th>\n",
       "      <th>ZipCode</th>\n",
       "      <th>HiddenScore</th>\n",
       "      <th>MonthlyAverageSpend</th>\n",
       "      <th>Level</th>\n",
       "      <th>Mortgage</th>\n",
       "      <th>Security</th>\n",
       "      <th>FixedDepositAccount</th>\n",
       "      <th>InternetBanking</th>\n",
       "      <th>CreditCard</th>\n",
       "      <th>LoanOnCard</th>\n",
       "    </tr>\n",
       "  </thead>\n",
       "  <tbody>\n",
       "    <tr>\n",
       "      <th>0</th>\n",
       "      <td>1</td>\n",
       "      <td>25</td>\n",
       "      <td>1</td>\n",
       "      <td>49</td>\n",
       "      <td>91107</td>\n",
       "      <td>4</td>\n",
       "      <td>1.6</td>\n",
       "      <td>1</td>\n",
       "      <td>0</td>\n",
       "      <td>1</td>\n",
       "      <td>0</td>\n",
       "      <td>0</td>\n",
       "      <td>0</td>\n",
       "      <td>NaN</td>\n",
       "    </tr>\n",
       "    <tr>\n",
       "      <th>1</th>\n",
       "      <td>2</td>\n",
       "      <td>45</td>\n",
       "      <td>19</td>\n",
       "      <td>34</td>\n",
       "      <td>90089</td>\n",
       "      <td>3</td>\n",
       "      <td>1.5</td>\n",
       "      <td>1</td>\n",
       "      <td>0</td>\n",
       "      <td>1</td>\n",
       "      <td>0</td>\n",
       "      <td>0</td>\n",
       "      <td>0</td>\n",
       "      <td>NaN</td>\n",
       "    </tr>\n",
       "    <tr>\n",
       "      <th>2</th>\n",
       "      <td>3</td>\n",
       "      <td>39</td>\n",
       "      <td>15</td>\n",
       "      <td>11</td>\n",
       "      <td>94720</td>\n",
       "      <td>1</td>\n",
       "      <td>1.0</td>\n",
       "      <td>1</td>\n",
       "      <td>0</td>\n",
       "      <td>0</td>\n",
       "      <td>0</td>\n",
       "      <td>0</td>\n",
       "      <td>0</td>\n",
       "      <td>NaN</td>\n",
       "    </tr>\n",
       "    <tr>\n",
       "      <th>3</th>\n",
       "      <td>4</td>\n",
       "      <td>35</td>\n",
       "      <td>9</td>\n",
       "      <td>100</td>\n",
       "      <td>94112</td>\n",
       "      <td>1</td>\n",
       "      <td>2.7</td>\n",
       "      <td>2</td>\n",
       "      <td>0</td>\n",
       "      <td>0</td>\n",
       "      <td>0</td>\n",
       "      <td>0</td>\n",
       "      <td>0</td>\n",
       "      <td>NaN</td>\n",
       "    </tr>\n",
       "    <tr>\n",
       "      <th>4</th>\n",
       "      <td>5</td>\n",
       "      <td>35</td>\n",
       "      <td>8</td>\n",
       "      <td>45</td>\n",
       "      <td>91330</td>\n",
       "      <td>4</td>\n",
       "      <td>1.0</td>\n",
       "      <td>2</td>\n",
       "      <td>0</td>\n",
       "      <td>0</td>\n",
       "      <td>0</td>\n",
       "      <td>0</td>\n",
       "      <td>1</td>\n",
       "      <td>NaN</td>\n",
       "    </tr>\n",
       "  </tbody>\n",
       "</table>\n",
       "</div>"
      ],
      "text/plain": [
       "   ID  Age  CustomerSince  HighestSpend  ZipCode  HiddenScore  \\\n",
       "0   1   25              1            49    91107            4   \n",
       "1   2   45             19            34    90089            3   \n",
       "2   3   39             15            11    94720            1   \n",
       "3   4   35              9           100    94112            1   \n",
       "4   5   35              8            45    91330            4   \n",
       "\n",
       "   MonthlyAverageSpend  Level  Mortgage  Security  FixedDepositAccount  \\\n",
       "0                  1.6      1         0         1                    0   \n",
       "1                  1.5      1         0         1                    0   \n",
       "2                  1.0      1         0         0                    0   \n",
       "3                  2.7      2         0         0                    0   \n",
       "4                  1.0      2         0         0                    0   \n",
       "\n",
       "   InternetBanking  CreditCard  LoanOnCard  \n",
       "0                0           0         NaN  \n",
       "1                0           0         NaN  \n",
       "2                0           0         NaN  \n",
       "3                0           0         NaN  \n",
       "4                0           1         NaN  "
      ]
     },
     "execution_count": 6,
     "metadata": {},
     "output_type": "execute_result"
    }
   ],
   "source": [
    "data.head()"
   ]
  },
  {
   "cell_type": "markdown",
   "id": "477d974a",
   "metadata": {},
   "source": [
    "#### <span style=\"font-family: Arial; font-weight:bold;font-size:1.2em;color:#0e92ea\">D.Change Datatype of below features to ‘Object’"
   ]
  },
  {
   "cell_type": "code",
   "execution_count": 7,
   "id": "0d023824",
   "metadata": {},
   "outputs": [],
   "source": [
    "col=['CreditCard',  'InternetBanking', 'FixedDepositAccount', 'Security', 'Level', 'HiddenScore']\n",
    "\n",
    "for i in col:\n",
    "    data[i]=data[i].astype('object')"
   ]
  },
  {
   "cell_type": "code",
   "execution_count": 8,
   "id": "33b6f71e",
   "metadata": {},
   "outputs": [
    {
     "data": {
      "text/plain": [
       "ID                       int64\n",
       "Age                      int64\n",
       "CustomerSince            int64\n",
       "HighestSpend             int64\n",
       "ZipCode                  int64\n",
       "HiddenScore             object\n",
       "MonthlyAverageSpend    float64\n",
       "Level                   object\n",
       "Mortgage                 int64\n",
       "Security                object\n",
       "FixedDepositAccount     object\n",
       "InternetBanking         object\n",
       "CreditCard              object\n",
       "LoanOnCard             float64\n",
       "dtype: object"
      ]
     },
     "execution_count": 8,
     "metadata": {},
     "output_type": "execute_result"
    }
   ],
   "source": [
    "data.dtypes"
   ]
  },
  {
   "cell_type": "markdown",
   "id": "59346075",
   "metadata": {},
   "source": [
    "**We can see the data types of the some of the features have been changed.**"
   ]
  },
  {
   "cell_type": "markdown",
   "id": "1a3d4d45",
   "metadata": {},
   "source": [
    "### 2.Data Exploration and Analysis: "
   ]
  },
  {
   "cell_type": "markdown",
   "id": "abe86a3e",
   "metadata": {},
   "source": [
    "#### <span style=\"font-family: Arial; font-weight:bold;font-size:1.2em;color:#0e92ea\">A.Visualize distribution of Target variable ‘LoanOnCard’ and clearly share insights."
   ]
  },
  {
   "cell_type": "markdown",
   "id": "7dc72724",
   "metadata": {},
   "source": [
    "**LoanOnCard column have 20 missing values. As our data is consisted of 5000 datapoints droping 20 datapoint is not a bad idea.**"
   ]
  },
  {
   "cell_type": "code",
   "execution_count": 9,
   "id": "b4fea9a6",
   "metadata": {},
   "outputs": [
    {
     "name": "stderr",
     "output_type": "stream",
     "text": [
      "C:\\Users\\vkgb\\anaconda3\\lib\\site-packages\\seaborn\\_decorators.py:36: FutureWarning: Pass the following variable as a keyword arg: x. From version 0.12, the only valid positional argument will be `data`, and passing other arguments without an explicit keyword will result in an error or misinterpretation.\n",
      "  warnings.warn(\n"
     ]
    },
    {
     "data": {
      "image/png": "[encoded data removed]",
      "text/plain": [
       "<Figure size 1224x504 with 2 Axes>"
      ]
     },
     "metadata": {
      "needs_background": "light"
     },
     "output_type": "display_data"
    }
   ],
   "source": [
    "# Visulaisation of the Target variable\n",
    "\n",
    "f, axes=plt.subplots(1,2, figsize=(17,7))\n",
    "data['LoanOnCard'].value_counts().plot.pie(autopct='%1.1f%%', ax=axes[0], shadow=True)\n",
    "sns.countplot('LoanOnCard', data=data, ax=axes[1],order=[0,1])\n",
    "axes[0].set_title(\"LoanOnCard Varibale pie chart\")\n",
    "axes[1].set_title('LoanOnCard Varibale bar chart');"
   ]
  },
  {
   "cell_type": "markdown",
   "id": "c84b7661",
   "metadata": {},
   "source": [
    "#### <span style=\"font-family: Arial; font-weight:bold;font-size:1.2em;color:#0e92ea\">B.Check the percentage of missing values and impute/drop if required. "
   ]
  },
  {
   "cell_type": "code",
   "execution_count": 10,
   "id": "bb6ef267",
   "metadata": {},
   "outputs": [
    {
     "data": {
      "text/plain": [
       "ID                     0.0\n",
       "Age                    0.0\n",
       "CustomerSince          0.0\n",
       "HighestSpend           0.0\n",
       "ZipCode                0.0\n",
       "HiddenScore            0.0\n",
       "MonthlyAverageSpend    0.0\n",
       "Level                  0.0\n",
       "Mortgage               0.0\n",
       "Security               0.0\n",
       "FixedDepositAccount    0.0\n",
       "InternetBanking        0.0\n",
       "CreditCard             0.0\n",
       "LoanOnCard             0.4\n",
       "dtype: float64"
      ]
     },
     "execution_count": 10,
     "metadata": {},
     "output_type": "execute_result"
    }
   ],
   "source": [
    "data.isnull().sum()*100/len(data)"
   ]
  },
  {
   "cell_type": "markdown",
   "id": "05fed0b5",
   "metadata": {},
   "source": [
    "**We can see here 0.4% values in class \"LoanOnCard\" are missing. Since the % of missing values is negligible we opt to droping those values.**"
   ]
  },
  {
   "cell_type": "code",
   "execution_count": 11,
   "id": "1ac6d116",
   "metadata": {},
   "outputs": [],
   "source": [
    "data.dropna(axis=0, inplace=True)"
   ]
  },
  {
   "cell_type": "code",
   "execution_count": 12,
   "id": "d8896ed1",
   "metadata": {},
   "outputs": [
    {
     "data": {
      "text/plain": [
       "ID                     0\n",
       "Age                    0\n",
       "CustomerSince          0\n",
       "HighestSpend           0\n",
       "ZipCode                0\n",
       "HiddenScore            0\n",
       "MonthlyAverageSpend    0\n",
       "Level                  0\n",
       "Mortgage               0\n",
       "Security               0\n",
       "FixedDepositAccount    0\n",
       "InternetBanking        0\n",
       "CreditCard             0\n",
       "LoanOnCard             0\n",
       "dtype: int64"
      ]
     },
     "execution_count": 12,
     "metadata": {},
     "output_type": "execute_result"
    }
   ],
   "source": [
    "data.isnull().sum()"
   ]
  },
  {
   "cell_type": "markdown",
   "id": "808eda6e",
   "metadata": {},
   "source": [
    "**All the missing values are removed.**"
   ]
  },
  {
   "cell_type": "markdown",
   "id": "71e041dc",
   "metadata": {},
   "source": [
    "#### <span style=\"font-family: Arial; font-weight:bold;font-size:1.2em;color:#0e92ea\">C.Check for unexpected values in each categorical variable and impute with best suitable value."
   ]
  },
  {
   "cell_type": "code",
   "execution_count": 13,
   "id": "34578afc",
   "metadata": {},
   "outputs": [
    {
     "data": {
      "text/plain": [
       "array([1, 4, 3, 2], dtype=object)"
      ]
     },
     "execution_count": 13,
     "metadata": {},
     "output_type": "execute_result"
    }
   ],
   "source": [
    "data.HiddenScore.unique()\n"
   ]
  },
  {
   "cell_type": "code",
   "execution_count": 14,
   "id": "a325612f",
   "metadata": {},
   "outputs": [
    {
     "data": {
      "text/plain": [
       "array([3, 2, 1], dtype=object)"
      ]
     },
     "execution_count": 14,
     "metadata": {},
     "output_type": "execute_result"
    }
   ],
   "source": [
    "data.Level.unique()"
   ]
  },
  {
   "cell_type": "code",
   "execution_count": 15,
   "id": "5a0e40a9",
   "metadata": {},
   "outputs": [
    {
     "data": {
      "text/plain": [
       "array([0, 1], dtype=object)"
      ]
     },
     "execution_count": 15,
     "metadata": {},
     "output_type": "execute_result"
    }
   ],
   "source": [
    "data.FixedDepositAccount.unique()"
   ]
  },
  {
   "cell_type": "code",
   "execution_count": 16,
   "id": "eedfdf14",
   "metadata": {},
   "outputs": [
    {
     "data": {
      "text/plain": [
       "array([0, 1], dtype=object)"
      ]
     },
     "execution_count": 16,
     "metadata": {},
     "output_type": "execute_result"
    }
   ],
   "source": [
    "data.Security.unique()"
   ]
  },
  {
   "cell_type": "code",
   "execution_count": 17,
   "id": "fa8d2db1",
   "metadata": {},
   "outputs": [
    {
     "data": {
      "text/plain": [
       "array([0, 1], dtype=object)"
      ]
     },
     "execution_count": 17,
     "metadata": {},
     "output_type": "execute_result"
    }
   ],
   "source": [
    "data.InternetBanking.unique()"
   ]
  },
  {
   "cell_type": "code",
   "execution_count": 18,
   "id": "d01125f8",
   "metadata": {},
   "outputs": [
    {
     "data": {
      "text/plain": [
       "array([0, 1], dtype=object)"
      ]
     },
     "execution_count": 18,
     "metadata": {},
     "output_type": "execute_result"
    }
   ],
   "source": [
    "data.CreditCard.unique()"
   ]
  },
  {
   "cell_type": "markdown",
   "id": "00a6e4e7",
   "metadata": {},
   "source": [
    "**There is no any unexpected values in the categorical variable**"
   ]
  },
  {
   "cell_type": "markdown",
   "id": "21923554",
   "metadata": {},
   "source": [
    "### 3.Data Preparation and model building: "
   ]
  },
  {
   "cell_type": "code",
   "execution_count": 19,
   "id": "845131c0",
   "metadata": {},
   "outputs": [
    {
     "data": {
      "text/html": [
       "<div>\n",
       "<style scoped>\n",
       "    .dataframe tbody tr th:only-of-type {\n",
       "        vertical-align: middle;\n",
       "    }\n",
       "\n",
       "    .dataframe tbody tr th {\n",
       "        vertical-align: top;\n",
       "    }\n",
       "\n",
       "    .dataframe thead th {\n",
       "        text-align: right;\n",
       "    }\n",
       "</style>\n",
       "<table border=\"1\" class=\"dataframe\">\n",
       "  <thead>\n",
       "    <tr style=\"text-align: right;\">\n",
       "      <th></th>\n",
       "      <th>Age</th>\n",
       "      <th>CustomerSince</th>\n",
       "      <th>HighestSpend</th>\n",
       "      <th>HiddenScore</th>\n",
       "      <th>MonthlyAverageSpend</th>\n",
       "      <th>Level</th>\n",
       "      <th>Mortgage</th>\n",
       "      <th>Security</th>\n",
       "      <th>FixedDepositAccount</th>\n",
       "      <th>InternetBanking</th>\n",
       "      <th>CreditCard</th>\n",
       "      <th>LoanOnCard</th>\n",
       "    </tr>\n",
       "  </thead>\n",
       "  <tbody>\n",
       "    <tr>\n",
       "      <th>9</th>\n",
       "      <td>34</td>\n",
       "      <td>9</td>\n",
       "      <td>180</td>\n",
       "      <td>1</td>\n",
       "      <td>8.9</td>\n",
       "      <td>3</td>\n",
       "      <td>0</td>\n",
       "      <td>0</td>\n",
       "      <td>0</td>\n",
       "      <td>0</td>\n",
       "      <td>0</td>\n",
       "      <td>1.0</td>\n",
       "    </tr>\n",
       "    <tr>\n",
       "      <th>10</th>\n",
       "      <td>65</td>\n",
       "      <td>39</td>\n",
       "      <td>105</td>\n",
       "      <td>4</td>\n",
       "      <td>2.4</td>\n",
       "      <td>3</td>\n",
       "      <td>0</td>\n",
       "      <td>0</td>\n",
       "      <td>0</td>\n",
       "      <td>0</td>\n",
       "      <td>0</td>\n",
       "      <td>0.0</td>\n",
       "    </tr>\n",
       "    <tr>\n",
       "      <th>11</th>\n",
       "      <td>29</td>\n",
       "      <td>5</td>\n",
       "      <td>45</td>\n",
       "      <td>3</td>\n",
       "      <td>0.1</td>\n",
       "      <td>2</td>\n",
       "      <td>0</td>\n",
       "      <td>0</td>\n",
       "      <td>0</td>\n",
       "      <td>1</td>\n",
       "      <td>0</td>\n",
       "      <td>0.0</td>\n",
       "    </tr>\n",
       "    <tr>\n",
       "      <th>12</th>\n",
       "      <td>48</td>\n",
       "      <td>23</td>\n",
       "      <td>114</td>\n",
       "      <td>2</td>\n",
       "      <td>3.8</td>\n",
       "      <td>3</td>\n",
       "      <td>0</td>\n",
       "      <td>1</td>\n",
       "      <td>0</td>\n",
       "      <td>0</td>\n",
       "      <td>0</td>\n",
       "      <td>0.0</td>\n",
       "    </tr>\n",
       "    <tr>\n",
       "      <th>13</th>\n",
       "      <td>59</td>\n",
       "      <td>32</td>\n",
       "      <td>40</td>\n",
       "      <td>4</td>\n",
       "      <td>2.5</td>\n",
       "      <td>2</td>\n",
       "      <td>0</td>\n",
       "      <td>0</td>\n",
       "      <td>0</td>\n",
       "      <td>1</td>\n",
       "      <td>0</td>\n",
       "      <td>0.0</td>\n",
       "    </tr>\n",
       "  </tbody>\n",
       "</table>\n",
       "</div>"
      ],
      "text/plain": [
       "    Age  CustomerSince  HighestSpend HiddenScore  MonthlyAverageSpend Level  \\\n",
       "9    34              9           180           1                  8.9     3   \n",
       "10   65             39           105           4                  2.4     3   \n",
       "11   29              5            45           3                  0.1     2   \n",
       "12   48             23           114           2                  3.8     3   \n",
       "13   59             32            40           4                  2.5     2   \n",
       "\n",
       "    Mortgage Security FixedDepositAccount InternetBanking CreditCard  \\\n",
       "9          0        0                   0               0          0   \n",
       "10         0        0                   0               0          0   \n",
       "11         0        0                   0               1          0   \n",
       "12         0        1                   0               0          0   \n",
       "13         0        0                   0               1          0   \n",
       "\n",
       "    LoanOnCard  \n",
       "9          1.0  \n",
       "10         0.0  \n",
       "11         0.0  \n",
       "12         0.0  \n",
       "13         0.0  "
      ]
     },
     "execution_count": 19,
     "metadata": {},
     "output_type": "execute_result"
    }
   ],
   "source": [
    "# Droping 'ID' & 'ZipCode' varibales\n",
    "\n",
    "data.drop(['ID', 'ZipCode'], axis=1, inplace=True)\n",
    "data.head()"
   ]
  },
  {
   "cell_type": "code",
   "execution_count": 20,
   "id": "dd747113",
   "metadata": {},
   "outputs": [
    {
     "data": {
      "text/html": [
       "<div>\n",
       "<style scoped>\n",
       "    .dataframe tbody tr th:only-of-type {\n",
       "        vertical-align: middle;\n",
       "    }\n",
       "\n",
       "    .dataframe tbody tr th {\n",
       "        vertical-align: top;\n",
       "    }\n",
       "\n",
       "    .dataframe thead th {\n",
       "        text-align: right;\n",
       "    }\n",
       "</style>\n",
       "<table border=\"1\" class=\"dataframe\">\n",
       "  <thead>\n",
       "    <tr style=\"text-align: right;\">\n",
       "      <th></th>\n",
       "      <th>Age</th>\n",
       "      <th>CustomerSince</th>\n",
       "      <th>HighestSpend</th>\n",
       "      <th>MonthlyAverageSpend</th>\n",
       "      <th>Mortgage</th>\n",
       "      <th>LoanOnCard</th>\n",
       "    </tr>\n",
       "  </thead>\n",
       "  <tbody>\n",
       "    <tr>\n",
       "      <th>Age</th>\n",
       "      <td>1.000000</td>\n",
       "      <td>0.994208</td>\n",
       "      <td>-0.054951</td>\n",
       "      <td>-0.051896</td>\n",
       "      <td>-0.013272</td>\n",
       "      <td>-0.008147</td>\n",
       "    </tr>\n",
       "    <tr>\n",
       "      <th>CustomerSince</th>\n",
       "      <td>0.994208</td>\n",
       "      <td>1.000000</td>\n",
       "      <td>-0.046092</td>\n",
       "      <td>-0.049918</td>\n",
       "      <td>-0.011380</td>\n",
       "      <td>-0.007801</td>\n",
       "    </tr>\n",
       "    <tr>\n",
       "      <th>HighestSpend</th>\n",
       "      <td>-0.054951</td>\n",
       "      <td>-0.046092</td>\n",
       "      <td>1.000000</td>\n",
       "      <td>0.646109</td>\n",
       "      <td>0.207236</td>\n",
       "      <td>0.502626</td>\n",
       "    </tr>\n",
       "    <tr>\n",
       "      <th>MonthlyAverageSpend</th>\n",
       "      <td>-0.051896</td>\n",
       "      <td>-0.049918</td>\n",
       "      <td>0.646109</td>\n",
       "      <td>1.000000</td>\n",
       "      <td>0.110275</td>\n",
       "      <td>0.366912</td>\n",
       "    </tr>\n",
       "    <tr>\n",
       "      <th>Mortgage</th>\n",
       "      <td>-0.013272</td>\n",
       "      <td>-0.011380</td>\n",
       "      <td>0.207236</td>\n",
       "      <td>0.110275</td>\n",
       "      <td>1.000000</td>\n",
       "      <td>0.141947</td>\n",
       "    </tr>\n",
       "    <tr>\n",
       "      <th>LoanOnCard</th>\n",
       "      <td>-0.008147</td>\n",
       "      <td>-0.007801</td>\n",
       "      <td>0.502626</td>\n",
       "      <td>0.366912</td>\n",
       "      <td>0.141947</td>\n",
       "      <td>1.000000</td>\n",
       "    </tr>\n",
       "  </tbody>\n",
       "</table>\n",
       "</div>"
      ],
      "text/plain": [
       "                          Age  CustomerSince  HighestSpend  \\\n",
       "Age                  1.000000       0.994208     -0.054951   \n",
       "CustomerSince        0.994208       1.000000     -0.046092   \n",
       "HighestSpend        -0.054951      -0.046092      1.000000   \n",
       "MonthlyAverageSpend -0.051896      -0.049918      0.646109   \n",
       "Mortgage            -0.013272      -0.011380      0.207236   \n",
       "LoanOnCard          -0.008147      -0.007801      0.502626   \n",
       "\n",
       "                     MonthlyAverageSpend  Mortgage  LoanOnCard  \n",
       "Age                            -0.051896 -0.013272   -0.008147  \n",
       "CustomerSince                  -0.049918 -0.011380   -0.007801  \n",
       "HighestSpend                    0.646109  0.207236    0.502626  \n",
       "MonthlyAverageSpend             1.000000  0.110275    0.366912  \n",
       "Mortgage                        0.110275  1.000000    0.141947  \n",
       "LoanOnCard                      0.366912  0.141947    1.000000  "
      ]
     },
     "execution_count": 20,
     "metadata": {},
     "output_type": "execute_result"
    }
   ],
   "source": [
    "#Checking for correlations\n",
    "\n",
    "data.corr()"
   ]
  },
  {
   "cell_type": "markdown",
   "id": "d7ef6166",
   "metadata": {},
   "source": [
    "**From the above correlation table we can notice that independent variable 'Age' & 'CustomerSince' have negligible impact on Target variable. Therefore we will remove these 2 variables**"
   ]
  },
  {
   "cell_type": "code",
   "execution_count": 21,
   "id": "34e34a8b",
   "metadata": {},
   "outputs": [],
   "source": [
    "data.drop(['Age', 'CustomerSince'], axis=1, inplace=True)"
   ]
  },
  {
   "cell_type": "code",
   "execution_count": 22,
   "id": "f83540e9",
   "metadata": {},
   "outputs": [
    {
     "data": {
      "text/html": [
       "<div>\n",
       "<style scoped>\n",
       "    .dataframe tbody tr th:only-of-type {\n",
       "        vertical-align: middle;\n",
       "    }\n",
       "\n",
       "    .dataframe tbody tr th {\n",
       "        vertical-align: top;\n",
       "    }\n",
       "\n",
       "    .dataframe thead th {\n",
       "        text-align: right;\n",
       "    }\n",
       "</style>\n",
       "<table border=\"1\" class=\"dataframe\">\n",
       "  <thead>\n",
       "    <tr style=\"text-align: right;\">\n",
       "      <th></th>\n",
       "      <th>HighestSpend</th>\n",
       "      <th>HiddenScore</th>\n",
       "      <th>MonthlyAverageSpend</th>\n",
       "      <th>Level</th>\n",
       "      <th>Mortgage</th>\n",
       "      <th>Security</th>\n",
       "      <th>FixedDepositAccount</th>\n",
       "      <th>InternetBanking</th>\n",
       "      <th>CreditCard</th>\n",
       "      <th>LoanOnCard</th>\n",
       "    </tr>\n",
       "  </thead>\n",
       "  <tbody>\n",
       "    <tr>\n",
       "      <th>9</th>\n",
       "      <td>180</td>\n",
       "      <td>1</td>\n",
       "      <td>8.9</td>\n",
       "      <td>3</td>\n",
       "      <td>0</td>\n",
       "      <td>0</td>\n",
       "      <td>0</td>\n",
       "      <td>0</td>\n",
       "      <td>0</td>\n",
       "      <td>1.0</td>\n",
       "    </tr>\n",
       "    <tr>\n",
       "      <th>10</th>\n",
       "      <td>105</td>\n",
       "      <td>4</td>\n",
       "      <td>2.4</td>\n",
       "      <td>3</td>\n",
       "      <td>0</td>\n",
       "      <td>0</td>\n",
       "      <td>0</td>\n",
       "      <td>0</td>\n",
       "      <td>0</td>\n",
       "      <td>0.0</td>\n",
       "    </tr>\n",
       "    <tr>\n",
       "      <th>11</th>\n",
       "      <td>45</td>\n",
       "      <td>3</td>\n",
       "      <td>0.1</td>\n",
       "      <td>2</td>\n",
       "      <td>0</td>\n",
       "      <td>0</td>\n",
       "      <td>0</td>\n",
       "      <td>1</td>\n",
       "      <td>0</td>\n",
       "      <td>0.0</td>\n",
       "    </tr>\n",
       "  </tbody>\n",
       "</table>\n",
       "</div>"
      ],
      "text/plain": [
       "    HighestSpend HiddenScore  MonthlyAverageSpend Level  Mortgage Security  \\\n",
       "9            180           1                  8.9     3         0        0   \n",
       "10           105           4                  2.4     3         0        0   \n",
       "11            45           3                  0.1     2         0        0   \n",
       "\n",
       "   FixedDepositAccount InternetBanking CreditCard  LoanOnCard  \n",
       "9                    0               0          0         1.0  \n",
       "10                   0               0          0         0.0  \n",
       "11                   0               1          0         0.0  "
      ]
     },
     "execution_count": 22,
     "metadata": {},
     "output_type": "execute_result"
    }
   ],
   "source": [
    "data.head(3)"
   ]
  },
  {
   "cell_type": "code",
   "execution_count": 23,
   "id": "95ed6d90",
   "metadata": {},
   "outputs": [
    {
     "name": "stdout",
     "output_type": "stream",
     "text": [
      "\u001b[1m Total Number of outliers in HighestSpend Before Imputing : 96\n",
      "\n",
      "\n",
      "\u001b[1m Mean of HighestSpend is 71\n",
      "\n",
      "\n",
      "\u001b[1m Total Number of outliers in HighestSpend After Imputing : 0\n",
      "\n",
      "\n",
      "\u001b[1m Total Number of outliers in HiddenScore Before Imputing : 0\n",
      "\n",
      "\n",
      "\u001b[1m Mean of HiddenScore is 2\n",
      "\n",
      "\n",
      "\u001b[1m Total Number of outliers in HiddenScore After Imputing : 0\n",
      "\n",
      "\n",
      "\u001b[1m Total Number of outliers in MonthlyAverageSpend Before Imputing : 324\n",
      "\n",
      "\n",
      "\u001b[1m Mean of MonthlyAverageSpend is 1\n",
      "\n",
      "\n",
      "\u001b[1m Total Number of outliers in MonthlyAverageSpend After Imputing : 0\n",
      "\n",
      "\n"
     ]
    }
   ],
   "source": [
    "# Oulier treatment\n",
    "\n",
    "col=['HighestSpend','HiddenScore','MonthlyAverageSpend']\n",
    "for c in col:\n",
    "    #getting upper lower quartile values\n",
    "    q25,q75=np.percentile(data[c],25),np.percentile(data[c],75)\n",
    "    IQR=q75-q25\n",
    "    Threshold=IQR*1.5\n",
    "    lower,upper=q25-Threshold,q75+Threshold\n",
    "    Outliers=[i for i in data[c] if i < lower or i > upper]\n",
    "    print('{} Total Number of outliers in {} Before Imputing : {}'.format('\\033[1m',c,len(Outliers)))\n",
    "    print('\\n')\n",
    "    #taking mean of a column without considering outliers\n",
    "    df_include = data.loc[(data[c] >= lower) & (data[c] <= upper)]\n",
    "    mean=int(df_include[c].mean())\n",
    "    print('{} Mean of {} is {}'.format('\\033[1m',c,mean))\n",
    "    print('\\n')\n",
    "    #imputing outliers with mean\n",
    "    data[c]=np.where(data[c]>upper,mean,data[c])\n",
    "    data[c]=np.where(data[c]<lower,mean,data[c])\n",
    "    Outliers=[i for i in data[c] if i < lower or i > upper]\n",
    "    print('{} Total Number of outliers in {} After Imputing : {}'.format('\\033[1m',c,len(Outliers)))  \n",
    "    print('\\n')"
   ]
  },
  {
   "cell_type": "markdown",
   "id": "c065213b",
   "metadata": {},
   "source": [
    "**Now we have mputed all the outliers with mean value**"
   ]
  },
  {
   "cell_type": "markdown",
   "id": "e415dfa7",
   "metadata": {},
   "source": [
    "#### <span style=\"font-family: Arial; font-weight:bold;font-size:1.2em;color:#0e92ea\">A.Split data into X and Y. "
   ]
  },
  {
   "cell_type": "code",
   "execution_count": 24,
   "id": "2abf38c0",
   "metadata": {},
   "outputs": [],
   "source": [
    "# Splitting the dataset into predictors and target\n",
    "\n",
    "x=data.drop(columns='LoanOnCard')\n",
    "y=data['LoanOnCard']"
   ]
  },
  {
   "cell_type": "markdown",
   "id": "994c42eb",
   "metadata": {},
   "source": [
    "#### <span style=\"font-family: Arial; font-weight:bold;font-size:1.2em;color:#0e92ea\">B.Split data into train and test. Keep 25% data reserved for testing. "
   ]
  },
  {
   "cell_type": "code",
   "execution_count": 25,
   "id": "46332fa8",
   "metadata": {},
   "outputs": [],
   "source": [
    "# Splitting the data into train and test sets in 75:25 ratio\n",
    "\n",
    "x_train, x_test, y_train, y_test= train_test_split(x, y, test_size=0.25, random_state=1)"
   ]
  },
  {
   "cell_type": "markdown",
   "id": "83e5a35b",
   "metadata": {},
   "source": [
    "#### <span style=\"font-family: Arial; font-weight:bold;font-size:1.2em;color:#0e92ea\">C.Train a Supervised Learning Classification base model - Logistic Regression. "
   ]
  },
  {
   "cell_type": "code",
   "execution_count": 26,
   "id": "1f315c7e",
   "metadata": {},
   "outputs": [],
   "source": [
    "from sklearn.linear_model import LogisticRegression\n",
    "from sklearn.metrics import accuracy_score, classification_report, confusion_matrix"
   ]
  },
  {
   "cell_type": "code",
   "execution_count": 27,
   "id": "07953e11",
   "metadata": {},
   "outputs": [
    {
     "name": "stderr",
     "output_type": "stream",
     "text": [
      "C:\\Users\\vkgb\\anaconda3\\lib\\site-packages\\sklearn\\linear_model\\_logistic.py:814: ConvergenceWarning: lbfgs failed to converge (status=1):\n",
      "STOP: TOTAL NO. of ITERATIONS REACHED LIMIT.\n",
      "\n",
      "Increase the number of iterations (max_iter) or scale the data as shown in:\n",
      "    https://scikit-learn.org/stable/modules/preprocessing.html\n",
      "Please also refer to the documentation for alternative solver options:\n",
      "    https://scikit-learn.org/stable/modules/linear_model.html#logistic-regression\n",
      "  n_iter_i = _check_optimize_result(\n"
     ]
    }
   ],
   "source": [
    "# Buliding Logistic Regression Model\n",
    "\n",
    "model_logit=LogisticRegression()\n",
    "model_logit.fit(x_train, y_train)\n",
    "y_pred=model_logit.predict(x_test)"
   ]
  },
  {
   "cell_type": "markdown",
   "id": "237cc62c",
   "metadata": {},
   "source": [
    "**Here we have trained Logistic Regression model on the given dataset**"
   ]
  },
  {
   "cell_type": "markdown",
   "id": "0d8c87e6",
   "metadata": {},
   "source": [
    "#### <span style=\"font-family: Arial; font-weight:bold;font-size:1.2em;color:#0e92ea\">D.Print evaluation metrics for the model and clearly share insights."
   ]
  },
  {
   "cell_type": "code",
   "execution_count": 28,
   "id": "a3e649ff",
   "metadata": {},
   "outputs": [
    {
     "name": "stdout",
     "output_type": "stream",
     "text": [
      "Accuracy on training data: 0.9475234270414993\n",
      "Accuracy on test data: 0.9502008032128514\n"
     ]
    }
   ],
   "source": [
    "# Checking the accuracy of the model\n",
    "\n",
    "print(\"Accuracy on training data:\", model_logit.score(x_train, y_train))\n",
    "print(\"Accuracy on test data:\", model_logit.score(x_test, y_test))"
   ]
  },
  {
   "cell_type": "markdown",
   "id": "b942f926",
   "metadata": {},
   "source": [
    "**94.75% Accuracy on training data & 95.02% accuracy on Test data. Accuracy of training set and Testing set seems to be balanced**"
   ]
  },
  {
   "cell_type": "code",
   "execution_count": 29,
   "id": "db0f2a8a",
   "metadata": {},
   "outputs": [
    {
     "data": {
      "image/png": "[encoded data removed]",
      "text/plain": [
       "<Figure size 504x360 with 2 Axes>"
      ]
     },
     "metadata": {
      "needs_background": "light"
     },
     "output_type": "display_data"
    }
   ],
   "source": [
    "# Confusion Matrix\n",
    "\n",
    "cm=confusion_matrix(y_test, y_pred)\n",
    "df_cm = pd.DataFrame(cm, index = [i for i in [\"Non-Loan Holder\",\"Loan_Holder\"]],\n",
    "                  columns = [i for i in [\"Non-Loan Holder\",\"Loan_Holder\"]])\n",
    "plt.figure(figsize = (7,5))\n",
    "sns.heatmap(df_cm, annot=True ,fmt='g')\n",
    "plt.show()\n"
   ]
  },
  {
   "cell_type": "markdown",
   "id": "97b316a9",
   "metadata": {},
   "source": [
    "**17 & 45 are the errors in the model**"
   ]
  },
  {
   "cell_type": "code",
   "execution_count": 30,
   "id": "4051d051",
   "metadata": {},
   "outputs": [
    {
     "name": "stdout",
     "output_type": "stream",
     "text": [
      "Classification Matrix:               precision    recall  f1-score   support\n",
      "\n",
      "         0.0       0.96      0.98      0.97      1118\n",
      "         1.0       0.83      0.65      0.73       127\n",
      "\n",
      "    accuracy                           0.95      1245\n",
      "   macro avg       0.89      0.82      0.85      1245\n",
      "weighted avg       0.95      0.95      0.95      1245\n",
      "\n"
     ]
    }
   ],
   "source": [
    "# Classification matrix\n",
    "\n",
    "print(\"Classification Matrix:\",classification_report(y_test, y_pred))"
   ]
  },
  {
   "cell_type": "markdown",
   "id": "d251ad6b",
   "metadata": {},
   "source": [
    "**Here we can notice that Model is poor in predicting class 1 as compared to class 0.**\n",
    "\n",
    "**Accuracy is good but in this case recall is important**\n",
    "\n",
    "**Here recall tells us that only 65% of values are predicted correctly from actual values. This need to be improved**\n",
    "\n",
    "**We do not have enough samples of class 1 to train the model**\n",
    "\n",
    "**Oversampling can resolve this issue**"
   ]
  },
  {
   "cell_type": "markdown",
   "id": "eb55a340",
   "metadata": {},
   "source": [
    "#### <span style=\"font-family: Arial; font-weight:bold;font-size:1.2em;color:#0e92ea\">E.Balance the data using the right balancing technique."
   ]
  },
  {
   "cell_type": "code",
   "execution_count": 31,
   "id": "bd266209",
   "metadata": {},
   "outputs": [
    {
     "name": "stderr",
     "output_type": "stream",
     "text": [
      "C:\\Users\\vkgb\\anaconda3\\lib\\site-packages\\seaborn\\_decorators.py:36: FutureWarning: Pass the following variable as a keyword arg: x. From version 0.12, the only valid positional argument will be `data`, and passing other arguments without an explicit keyword will result in an error or misinterpretation.\n",
      "  warnings.warn(\n"
     ]
    },
    {
     "data": {
      "image/png": "[encoded data removed]",
      "text/plain": [
       "<Figure size 1224x504 with 2 Axes>"
      ]
     },
     "metadata": {
      "needs_background": "light"
     },
     "output_type": "display_data"
    }
   ],
   "source": [
    "# Checking the distribution of the target variable\n",
    "\n",
    "f,axes=plt.subplots(1,2,figsize=(17,7))\n",
    "data['LoanOnCard'].value_counts().plot.pie(autopct='%1.1f%%',ax=axes[0],shadow=True)\n",
    "sns.countplot('LoanOnCard',data=data,ax=axes[1],order=[0,1])\n",
    "axes[0].set_title('LoanOnCard Variable Pie Chart')\n",
    "axes[1].set_title('LoanOnCard Variable Bar Graph')\n",
    "plt.show()"
   ]
  },
  {
   "cell_type": "markdown",
   "id": "8e47c820",
   "metadata": {},
   "source": [
    "### There is huge imbalance inbetween target variable**\n",
    "\n",
    "#### If this imbalance remain untreated, The algorithm receives significantly more examples from one class, prompting it to be biased towards that particular class. It does not learn what makes the other class “different” and fails to understand the underlying patterns that allow us to distinguish classes.\n",
    "\n",
    "#### A widely adopted technique for dealing with highly unbalanced datasets is called resampling\n",
    "\n",
    "#### Two widely used resampling methods:\n",
    "\n",
    "#### Undersampling: It is the process where you randomly delete some of the observations from the majority class in order to match the numbers with the minority class.\n",
    "\n",
    "#### Oversampling: It is the process of generating synthetic data that tries to randomly generate a sample of the attributes from observations in the minority class\n",
    "\n",
    "#### Here we will use oversampling because undersampling may remove important information from the dataset"
   ]
  },
  {
   "cell_type": "code",
   "execution_count": 32,
   "id": "ea7a11a7",
   "metadata": {},
   "outputs": [],
   "source": [
    "# Target imbalance: Treatment with SMOTE method\n",
    "\n",
    "from imblearn.over_sampling import RandomOverSampler\n",
    "from imblearn.over_sampling import SMOTENC\n",
    "from imblearn.over_sampling import SMOTE\n",
    "\n",
    "\n",
    "smote_nc=SMOTENC(categorical_features=[1,3,5],random_state=42) #specifying categorical column numbers\n",
    "x_s,y_s=smote_nc.fit_resample(x,y)"
   ]
  },
  {
   "cell_type": "code",
   "execution_count": 33,
   "id": "5fec1a41",
   "metadata": {},
   "outputs": [
    {
     "name": "stdout",
     "output_type": "stream",
     "text": [
      "Number of data points before sampling\n",
      "0.0    4500\n",
      "1.0     480\n",
      "Name: LoanOnCard, dtype: int64\n"
     ]
    }
   ],
   "source": [
    "print(\"Number of data points before sampling\")\n",
    "print(y.value_counts())"
   ]
  },
  {
   "cell_type": "code",
   "execution_count": 34,
   "id": "1e226358",
   "metadata": {},
   "outputs": [
    {
     "name": "stdout",
     "output_type": "stream",
     "text": [
      "Number of data points after oversampling\n",
      "1.0    4500\n",
      "0.0    4500\n",
      "Name: LoanOnCard, dtype: int64\n"
     ]
    }
   ],
   "source": [
    "print(\"Number of data points after oversampling\")\n",
    "print(y_s.value_counts())"
   ]
  },
  {
   "cell_type": "markdown",
   "id": "74cdcd68",
   "metadata": {},
   "source": [
    "**We can notice here, target is balnced after oversampling. Data is having 50:50 proportion**"
   ]
  },
  {
   "cell_type": "markdown",
   "id": "d6f65c53",
   "metadata": {},
   "source": [
    "#### <span style=\"font-family: Arial; font-weight:bold;font-size:1.2em;color:#0e92ea\">F.Again train the same previous model on balanced data. "
   ]
  },
  {
   "cell_type": "code",
   "execution_count": 35,
   "id": "514ac7ac",
   "metadata": {},
   "outputs": [],
   "source": [
    "#Splitting the dataset into training and test data\n",
    "\n",
    "x_train, x_test, y_train, y_test=train_test_split(x_s, y_s, test_size=0.25, random_state=1)"
   ]
  },
  {
   "cell_type": "code",
   "execution_count": 36,
   "id": "fc27c46f",
   "metadata": {},
   "outputs": [
    {
     "name": "stdout",
     "output_type": "stream",
     "text": [
      "Accuracy on training dataset: 0.8902222222222222\n",
      "Accuracy in test dataset: 0.884\n"
     ]
    },
    {
     "name": "stderr",
     "output_type": "stream",
     "text": [
      "C:\\Users\\vkgb\\anaconda3\\lib\\site-packages\\sklearn\\linear_model\\_logistic.py:814: ConvergenceWarning: lbfgs failed to converge (status=1):\n",
      "STOP: TOTAL NO. of ITERATIONS REACHED LIMIT.\n",
      "\n",
      "Increase the number of iterations (max_iter) or scale the data as shown in:\n",
      "    https://scikit-learn.org/stable/modules/preprocessing.html\n",
      "Please also refer to the documentation for alternative solver options:\n",
      "    https://scikit-learn.org/stable/modules/linear_model.html#logistic-regression\n",
      "  n_iter_i = _check_optimize_result(\n"
     ]
    }
   ],
   "source": [
    "#Fitting the model\n",
    "\n",
    "model_logit.fit(x_train, y_train)\n",
    "y_pred1=model_logit.predict(x_test)\n",
    "\n",
    "print(\"Accuracy on training dataset:\", model_logit.score(x_train, y_train))\n",
    "print(\"Accuracy in test dataset:\", model_logit.score(x_test, y_test))"
   ]
  },
  {
   "cell_type": "markdown",
   "id": "18535cf3",
   "metadata": {},
   "source": [
    "**Now the accuracy on both the datset has considerably decreased.**\n",
    "\n",
    "**Lets check for the accuracy**"
   ]
  },
  {
   "cell_type": "markdown",
   "id": "637c6725",
   "metadata": {},
   "source": [
    "#### <span style=\"font-family: Arial; font-weight:bold;font-size:1.2em;color:#0e92ea\">G.Print evaluation metrics and clearly share differences observed."
   ]
  },
  {
   "cell_type": "code",
   "execution_count": 37,
   "id": "05a2afc7",
   "metadata": {},
   "outputs": [
    {
     "data": {
      "image/png": "[encoded data removed]",
      "text/plain": [
       "<Figure size 504x360 with 2 Axes>"
      ]
     },
     "metadata": {
      "needs_background": "light"
     },
     "output_type": "display_data"
    }
   ],
   "source": [
    "cm = confusion_matrix(y_test, y_pred1, labels=[0, 1])\n",
    "\n",
    "df_cm = pd.DataFrame(cm, index = [i for i in [\"Non-Loan holders\",\"Loan holders\"]],\n",
    "                  columns = [i for i in [\"Non-Loan holders\",\"Loan holders\"]])\n",
    "plt.figure(figsize = (7,5))\n",
    "sns.heatmap(df_cm, annot=True ,fmt='g')\n",
    "plt.show()"
   ]
  },
  {
   "cell_type": "code",
   "execution_count": 38,
   "id": "012f0526",
   "metadata": {},
   "outputs": [
    {
     "name": "stdout",
     "output_type": "stream",
     "text": [
      "Classififcation report: \n",
      "               precision    recall  f1-score   support\n",
      "\n",
      "         0.0       0.87      0.90      0.88      1104\n",
      "         1.0       0.90      0.87      0.88      1146\n",
      "\n",
      "    accuracy                           0.88      2250\n",
      "   macro avg       0.88      0.88      0.88      2250\n",
      "weighted avg       0.88      0.88      0.88      2250\n",
      "\n"
     ]
    }
   ],
   "source": [
    "print(\"Classififcation report: \\n\", classification_report(y_test, y_pred1))"
   ]
  },
  {
   "cell_type": "markdown",
   "id": "1dcf9554",
   "metadata": {},
   "source": [
    "**Here we can see that recall, precision & F1 score value have improved after oversampling**\n",
    "\n",
    "**Accuracy has decreased**"
   ]
  },
  {
   "cell_type": "markdown",
   "id": "02940e28",
   "metadata": {},
   "source": [
    "### 4.Performance Improvement: "
   ]
  },
  {
   "cell_type": "markdown",
   "id": "0aad66be",
   "metadata": {},
   "source": [
    "#### <span style=\"font-family: Arial; font-weight:bold;font-size:1.2em;color:#0e92ea\">A.Train a base model each for SVM, KNN. "
   ]
  },
  {
   "cell_type": "code",
   "execution_count": 39,
   "id": "56e3c9a0",
   "metadata": {},
   "outputs": [],
   "source": [
    "# Building a SVM model\n",
    "\n",
    "from sklearn.svm import SVC\n",
    "\n",
    "#Building SVM on train data\n",
    "\n",
    "svc_model=SVC(C=0.1, kernel='linear',gamma=1)\n",
    "svc_model.fit(x_train, y_train)\n",
    "\n",
    "y_pred_svm=svc_model.predict(x_test)"
   ]
  },
  {
   "cell_type": "code",
   "execution_count": 40,
   "id": "bf467fbc",
   "metadata": {},
   "outputs": [
    {
     "name": "stdout",
     "output_type": "stream",
     "text": [
      "Accuracy on training data: \n",
      " 0.8921481481481481\n",
      "Accuracy on test data: \n",
      " 0.8884444444444445\n"
     ]
    }
   ],
   "source": [
    "print(\"Accuracy on training data: \\n\", svc_model.score(x_train, y_train))\n",
    "print(\"Accuracy on test data: \\n\", svc_model.score(x_test, y_test))"
   ]
  },
  {
   "cell_type": "markdown",
   "id": "078dceda",
   "metadata": {},
   "source": [
    "**Accuracy of the SVM model on Training and Test data is almost similar to the accuracy given by Logistic Regression model**"
   ]
  },
  {
   "cell_type": "code",
   "execution_count": 41,
   "id": "238d40f8",
   "metadata": {},
   "outputs": [
    {
     "name": "stdout",
     "output_type": "stream",
     "text": [
      "Classification Matrix: \n",
      "               precision    recall  f1-score   support\n",
      "\n",
      "         0.0       0.87      0.90      0.89      1104\n",
      "         1.0       0.90      0.87      0.89      1146\n",
      "\n",
      "    accuracy                           0.89      2250\n",
      "   macro avg       0.89      0.89      0.89      2250\n",
      "weighted avg       0.89      0.89      0.89      2250\n",
      "\n"
     ]
    }
   ],
   "source": [
    "# Classififcation matrix\n",
    "\n",
    "print(\"Classification Matrix: \\n\", classification_report(y_test, y_pred_svm))"
   ]
  },
  {
   "cell_type": "code",
   "execution_count": 42,
   "id": "0cdc67d8",
   "metadata": {},
   "outputs": [],
   "source": [
    "# Building a KNN model\n",
    "\n",
    "NNH=KNeighborsClassifier(n_neighbors=5)\n",
    "\n",
    "NNH.fit(x_train, y_train)\n",
    "y_pred_knn=NNH.predict(x_test)"
   ]
  },
  {
   "cell_type": "code",
   "execution_count": 43,
   "id": "cab6a00f",
   "metadata": {},
   "outputs": [
    {
     "name": "stdout",
     "output_type": "stream",
     "text": [
      " Accuracy on training data is 0.9607407407407408\n",
      "Accuracy on test data is 0.9377777777777778\n"
     ]
    }
   ],
   "source": [
    "# Accuracy score\n",
    "\n",
    "print(\" Accuracy on training data is\", NNH.score(x_train, y_train))\n",
    "print(\"Accuracy on test data is\", NNH.score(x_test, y_test))"
   ]
  },
  {
   "cell_type": "code",
   "execution_count": 44,
   "id": "abc12e56",
   "metadata": {},
   "outputs": [
    {
     "name": "stdout",
     "output_type": "stream",
     "text": [
      "Classification matrix: \n",
      "               precision    recall  f1-score   support\n",
      "\n",
      "         0.0       0.97      0.90      0.93      1104\n",
      "         1.0       0.91      0.97      0.94      1146\n",
      "\n",
      "    accuracy                           0.94      2250\n",
      "   macro avg       0.94      0.94      0.94      2250\n",
      "weighted avg       0.94      0.94      0.94      2250\n",
      "\n"
     ]
    }
   ],
   "source": [
    "print(\"Classification matrix: \\n\", classification_report(y_test, y_pred_knn))"
   ]
  },
  {
   "cell_type": "code",
   "execution_count": 45,
   "id": "06cef659",
   "metadata": {},
   "outputs": [
    {
     "name": "stdout",
     "output_type": "stream",
     "text": [
      "Accuracy on Train data is 0.8902222222222222\n",
      "Accuracy on test data is 0.884\n"
     ]
    },
    {
     "name": "stderr",
     "output_type": "stream",
     "text": [
      "C:\\Users\\vkgb\\anaconda3\\lib\\site-packages\\sklearn\\linear_model\\_logistic.py:814: ConvergenceWarning: lbfgs failed to converge (status=1):\n",
      "STOP: TOTAL NO. of ITERATIONS REACHED LIMIT.\n",
      "\n",
      "Increase the number of iterations (max_iter) or scale the data as shown in:\n",
      "    https://scikit-learn.org/stable/modules/preprocessing.html\n",
      "Please also refer to the documentation for alternative solver options:\n",
      "    https://scikit-learn.org/stable/modules/linear_model.html#logistic-regression\n",
      "  n_iter_i = _check_optimize_result(\n"
     ]
    }
   ],
   "source": [
    "# Building the Logistic Regression Model\n",
    "from sklearn.linear_model import LogisticRegression\n",
    "\n",
    "logit=LogisticRegression()\n",
    "logit.fit(x_train, y_train)\n",
    "\n",
    "print(\"Accuracy on Train data is\", logit.score(x_train, y_train))\n",
    "print(\"Accuracy on test data is\", logit.score(x_test, y_test))"
   ]
  },
  {
   "cell_type": "markdown",
   "id": "2af42b53",
   "metadata": {},
   "source": [
    "**From above results it can be inferred that KNN model is giving best accuracy amongst all**"
   ]
  },
  {
   "cell_type": "code",
   "execution_count": 46,
   "id": "01223c11",
   "metadata": {},
   "outputs": [
    {
     "data": {
      "image/png": "[encoded data removed]",
      "text/plain": [
       "<Figure size 432x288 with 1 Axes>"
      ]
     },
     "metadata": {
      "needs_background": "light"
     },
     "output_type": "display_data"
    },
    {
     "data": {
      "image/png": "[encoded data removed]",
      "text/plain": [
       "<Figure size 432x288 with 1 Axes>"
      ]
     },
     "metadata": {
      "needs_background": "light"
     },
     "output_type": "display_data"
    }
   ],
   "source": [
    "# Now finding the best K value\n",
    "\n",
    "N_neigbours = list(np.arange(3,30,2))\n",
    "score = []\n",
    "misclassification = []\n",
    "for n in N_neigbours:\n",
    "    knn = KNeighborsClassifier(n_neighbors=n)\n",
    "    knn.fit(x_train, y_train.values.ravel())\n",
    "    sc = knn.score(x_test, y_test);\n",
    "    score.append(sc)\n",
    "    misclassification.append(1-sc)\n",
    "plt.plot(N_neigbours, score);\n",
    "plt.xticks(N_neigbours);\n",
    "plt.xlabel(\"neighbors\")\n",
    "plt.ylabel(\"Accuracy\")\n",
    "plt.show()\n",
    "plt.plot(N_neigbours, misclassification);\n",
    "plt.xticks(N_neigbours);\n",
    "plt.xlabel(\"neighbors\")\n",
    "plt.ylabel(\"misclassification\")\n",
    "plt.show()"
   ]
  },
  {
   "cell_type": "markdown",
   "id": "9567c956",
   "metadata": {},
   "source": [
    "**From the above plots we can see that, k=3 is the best value for KNN model.**"
   ]
  },
  {
   "cell_type": "markdown",
   "id": "669a7195",
   "metadata": {},
   "source": [
    "#### <span style=\"font-family: Arial; font-weight:bold;font-size:1.2em;color:#0e92ea\">C.Print evaluation metrics for final model."
   ]
  },
  {
   "cell_type": "code",
   "execution_count": 47,
   "id": "0ec030ee",
   "metadata": {},
   "outputs": [
    {
     "name": "stdout",
     "output_type": "stream",
     "text": [
      " Accuracy on training data is 0.9724444444444444\n",
      "Accuracy on test data is 0.9417777777777778\n",
      "Classification matrix: \n",
      "               precision    recall  f1-score   support\n",
      "\n",
      "         0.0       0.97      0.91      0.94      1104\n",
      "         1.0       0.92      0.97      0.94      1146\n",
      "\n",
      "    accuracy                           0.94      2250\n",
      "   macro avg       0.94      0.94      0.94      2250\n",
      "weighted avg       0.94      0.94      0.94      2250\n",
      "\n"
     ]
    }
   ],
   "source": [
    "NNH=KNeighborsClassifier(n_neighbors=3)\n",
    "\n",
    "NNH.fit(x_train, y_train)\n",
    "y_pred_knn=NNH.predict(x_test)\n",
    "\n",
    "\n",
    "print(\" Accuracy on training data is\", NNH.score(x_train, y_train))\n",
    "print(\"Accuracy on test data is\", NNH.score(x_test, y_test))\n",
    "\n",
    "print(\"Classification matrix: \\n\", classification_report(y_test, y_pred_knn))"
   ]
  },
  {
   "cell_type": "markdown",
   "id": "ac14915d",
   "metadata": {},
   "source": [
    "**With accuracy of 94% this will be our final model**"
   ]
  },
  {
   "cell_type": "code",
   "execution_count": 48,
   "id": "3cb32332",
   "metadata": {},
   "outputs": [
    {
     "data": {
      "image/png": "[encoded data removed]",
      "text/plain": [
       "<Figure size 504x360 with 2 Axes>"
      ]
     },
     "metadata": {
      "needs_background": "light"
     },
     "output_type": "display_data"
    }
   ],
   "source": [
    "cm = confusion_matrix(y_test, y_pred_knn, labels=[0, 1])\n",
    "\n",
    "df_cm = pd.DataFrame(cm, index = [i for i in [\"Non-Loan holders\",\"Loan holders\"]],\n",
    "                  columns = [i for i in [\"Non-Loan holders\",\"Loan holders\"]])\n",
    "plt.figure(figsize = (7,5))\n",
    "sns.heatmap(df_cm, annot=True ,fmt='g')\n",
    "plt.show()"
   ]
  },
  {
   "cell_type": "markdown",
   "id": "d382a727",
   "metadata": {},
   "source": [
    "#### <span style=\"font-family: Arial; font-weight:bold;font-size:1.2em;color:#0e92ea\">D.Share improvement achieved from base model to final model."
   ]
  },
  {
   "cell_type": "markdown",
   "id": "8cc10f94",
   "metadata": {},
   "source": [
    "#### Accuracy on training data set increased from 89.02% in earlier model to 97.24% in this model.\n",
    "\n",
    "#### Accuarcy on Test data set shown considerable improvemnet from 88.40% to 94.17%.\n",
    "\n",
    "#### F1 score has shown improvement from 0.88 to 0.94.\n",
    "\n",
    "#### Misclassification cases were reduced from 111 & 150 to 96 & 35 respectively."
   ]
  }
 ],
 "metadata": {
  "kernelspec": {
   "display_name": "Python 3 (ipykernel)",
   "language": "python",
   "name": "python3"
  },
  "language_info": {
   "codemirror_mode": {
    "name": "ipython",
    "version": 3
   },
   "file_extension": ".py",
   "mimetype": "text/x-python",
   "name": "python",
   "nbconvert_exporter": "python",
   "pygments_lexer": "ipython3",
   "version": "3.9.7"
  }
 },
 "nbformat": 4,
 "nbformat_minor": 5
}
